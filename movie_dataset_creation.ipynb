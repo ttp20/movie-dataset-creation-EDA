{
 "cells": [
  {
   "cell_type": "markdown",
   "metadata": {},
   "source": [
    "# Disney Dataset Creation (Web Scraping) using BeautifulSoup"
   ]
  },
  {
   "cell_type": "markdown",
   "metadata": {},
   "source": [
    "### Scrape and clean a list of Disney wikipidea pages to create a dataset to further analyse"
   ]
  },
  {
   "cell_type": "code",
   "execution_count": 2,
   "metadata": {},
   "outputs": [],
   "source": [
    "from bs4 import BeautifulSoup as bs\n",
    "import requests"
   ]
  },
  {
   "cell_type": "code",
   "execution_count": 3,
   "metadata": {},
   "outputs": [],
   "source": [
    "req = requests.get('https://en.wikipedia.org/wiki/Toy_Story_3')\n",
    "# req = requests.get('https://en.wikipedia.org/wiki/Angels_in_the_Outfield_(1994_film)')"
   ]
  },
  {
   "cell_type": "code",
   "execution_count": 4,
   "metadata": {},
   "outputs": [],
   "source": [
    "webpage = bs(req.content)"
   ]
  },
  {
   "cell_type": "markdown",
   "metadata": {},
   "source": [
    "### Locate the infobox"
   ]
  },
  {
   "cell_type": "code",
   "execution_count": 5,
   "metadata": {},
   "outputs": [],
   "source": [
    "info_box = webpage.find(class_='infobox vevent')\n",
    "info_rows = info_box.find_all('tr')\n",
    "# for row in info_rows:\n",
    "#     print(row.prettify())\n"
   ]
  },
  {
   "cell_type": "markdown",
   "metadata": {},
   "source": [
    "### Get info box for Toy Story 3"
   ]
  },
  {
   "cell_type": "code",
   "execution_count": 6,
   "metadata": {},
   "outputs": [],
   "source": [
    "def get_content_value(row_data):\n",
    "    if row_data.find(\"li\"):\n",
    "        return [li.get_text(\" \", strip=True).replace(\"\\xa0\", \" \") for li in row_data.find_all('li')]\n",
    "    elif row_data.find(\"br\"):\n",
    "        return [text for text in row_data.stripped_strings]\n",
    "    else:\n",
    "        return row_data.get_text(\" \", strip=True).replace(\"\\xa0\", \" \")"
   ]
  },
  {
   "cell_type": "code",
   "execution_count": 11,
   "metadata": {},
   "outputs": [],
   "source": [
    "def clean_tags(soup):\n",
    "    for tag in soup.find_all([\"sup\", \"span\"]):\n",
    "        tag.decompose()"
   ]
  },
  {
   "cell_type": "code",
   "execution_count": 12,
   "metadata": {},
   "outputs": [
    {
     "name": "stdout",
     "output_type": "stream",
     "text": [
      "Title: Toy Story 3\n",
      "\n",
      "\n",
      "Directed by: Lee Unkrich\n",
      "\n",
      "\n",
      "Screenplay by: Michael Arndt\n",
      "\n",
      "\n",
      "Story by: ['John Lasseter', 'Andrew Stanton', 'Lee Unkrich']\n",
      "\n",
      "\n",
      "Produced by: Darla K. Anderson\n",
      "\n",
      "\n",
      "Starring: ['Tom Hanks', 'Tim Allen', 'Joan Cusack', 'Don Rickles', 'Wallace Shawn', 'John Ratzenberger', 'Estelle Harris', 'Ned Beatty', 'Michael Keaton', 'Jodi Benson', 'John Morris']\n",
      "\n",
      "\n",
      "Cinematography: ['Jeremy Lasky', 'Kim White']\n",
      "\n",
      "\n",
      "Edited by: Ken Schretzmann\n",
      "\n",
      "\n",
      "Music by: Randy Newman\n",
      "\n",
      "\n",
      "Production companies: ['Walt Disney Pictures', 'Pixar Animation Studios']\n",
      "\n",
      "\n",
      "Distributed by: ['Walt Disney Studios', 'Motion Pictures']\n",
      "\n",
      "\n",
      "Release dates: ['June 12, 2010 ( 2010-06-12 ) ( Taormina Film Fest )', 'June 18, 2010 ( 2010-06-18 ) (United States)']\n",
      "\n",
      "\n",
      "Running time: 103 minutes [1]\n",
      "\n",
      "\n",
      "Country: United States\n",
      "\n",
      "\n",
      "Language: English\n",
      "\n",
      "\n",
      "Budget: $200 million [1]\n",
      "\n",
      "\n",
      "Box office: $1.067 billion [1]\n",
      "\n",
      "\n"
     ]
    }
   ],
   "source": [
    "movie_info = {}\n",
    "\n",
    "for index, row in enumerate(info_rows):\n",
    "    if index == 0:\n",
    "        movie_info['Title'] = row.find('th').get_text(\" \", strip=True)\n",
    "    elif index == 1:\n",
    "        continue\n",
    "    else:\n",
    "        key = row.find('th').get_text(\" \", strip=True)\n",
    "        value = get_content_value(row.find('td'))\n",
    "        movie_info[key] = value\n",
    "\n",
    "        \n",
    "# print(movie_info)\n",
    "for key, val in movie_info.items():\n",
    "    print(f\"{key}: {val}\")\n",
    "    print(\"\\n\")"
   ]
  },
  {
   "cell_type": "markdown",
   "metadata": {},
   "source": [
    "### Get info box for all Disney films"
   ]
  },
  {
   "cell_type": "code",
   "execution_count": 13,
   "metadata": {},
   "outputs": [],
   "source": [
    "new_request = requests.get(\"https://en.wikipedia.org/wiki/List_of_Walt_Disney_Pictures_films\")\n",
    "\n",
    "soup = bs(new_request.content)"
   ]
  },
  {
   "cell_type": "code",
   "execution_count": 19,
   "metadata": {},
   "outputs": [],
   "source": [
    "def get_info_box(url):\n",
    "    \n",
    "    req = requests.get(url)\n",
    "    webpage = bs(req.content)\n",
    "    info_box = webpage.find(class_='infobox vevent')\n",
    "    info_rows = info_box.find_all('tr')\n",
    "    \n",
    "    clean_tags(webpage)\n",
    "    \n",
    "    movie_info = {}\n",
    "\n",
    "    for index, row in enumerate(info_rows):\n",
    "        if index == 0:\n",
    "            movie_info['Title'] = row.find('th').get_text(\" \", strip=True)\n",
    "        else:\n",
    "            header = row.find('th')\n",
    "            if header:\n",
    "                key = row.find('th').get_text(\" \", strip=True)\n",
    "                value = get_content_value(row.find('td'))\n",
    "                movie_info[key] = value\n",
    "            \n",
    "    return movie_info"
   ]
  },
  {
   "cell_type": "code",
   "execution_count": 15,
   "metadata": {},
   "outputs": [
    {
     "data": {
      "text/plain": [
       "{'Title': 'Toy Story 3',\n",
       " 'Directed by': 'Lee Unkrich',\n",
       " 'Screenplay by': 'Michael Arndt',\n",
       " 'Story by': ['John Lasseter', 'Andrew Stanton', 'Lee Unkrich'],\n",
       " 'Produced by': 'Darla K. Anderson',\n",
       " 'Starring': ['Tom Hanks',\n",
       "  'Tim Allen',\n",
       "  'Joan Cusack',\n",
       "  'Don Rickles',\n",
       "  'Wallace Shawn',\n",
       "  'John Ratzenberger',\n",
       "  'Estelle Harris',\n",
       "  'Ned Beatty',\n",
       "  'Michael Keaton',\n",
       "  'Jodi Benson',\n",
       "  'John Morris'],\n",
       " 'Cinematography': ['Jeremy Lasky', 'Kim White'],\n",
       " 'Edited by': 'Ken Schretzmann',\n",
       " 'Music by': 'Randy Newman',\n",
       " 'Production companies': ['Walt Disney Pictures', 'Pixar Animation Studios'],\n",
       " 'Distributed by': ['Walt Disney Studios', 'Motion Pictures'],\n",
       " 'Release dates': ['June 12, 2010 ( Taormina Film Fest )',\n",
       "  'June 18, 2010 (United States)'],\n",
       " 'Running time': '103 minutes',\n",
       " 'Country': 'United States',\n",
       " 'Language': 'English',\n",
       " 'Budget': '$200 million',\n",
       " 'Box office': '$1.067 billion'}"
      ]
     },
     "execution_count": 15,
     "metadata": {},
     "output_type": "execute_result"
    }
   ],
   "source": [
    "get_info_box('https://en.wikipedia.org/wiki/Toy_Story_3')"
   ]
  },
  {
   "cell_type": "code",
   "execution_count": 21,
   "metadata": {},
   "outputs": [
    {
     "name": "stdout",
     "output_type": "stream",
     "text": [
      "Zorro the Avenger\n",
      "'NoneType' object has no attribute 'find'\n",
      "The Sign of Zorro\n",
      "'NoneType' object has no attribute 'find'\n",
      "The Beatles: Get Back – The Rooftop Concert\n",
      "'NoneType' object has no attribute 'find'\n",
      "Elemental\n",
      "'NoneType' object has no attribute 'find_all'\n",
      "61\n",
      "'NoneType' object has no attribute 'find_all'\n",
      "All Night Long\n",
      "'NoneType' object has no attribute 'find'\n",
      "Big Thunder Mountain Railroad\n",
      "'NoneType' object has no attribute 'find_all'\n",
      "Keeper of the Lost Cities\n",
      "'NoneType' object has no attribute 'find_all'\n",
      "Muppet Man\n",
      "'NoneType' object has no attribute 'find_all'\n",
      "Shrunk\n",
      "'NoneType' object has no attribute 'find'\n",
      "Sister Act 3\n",
      "'NoneType' object has no attribute 'find'\n",
      "The Graveyard Book\n",
      "'NoneType' object has no attribute 'find_all'\n",
      "The Thief\n",
      "'NoneType' object has no attribute 'find_all'\n",
      "Tom Sawyer\n",
      "'NoneType' object has no attribute 'find_all'\n",
      "Tower of Terror\n",
      "'NoneType' object has no attribute 'find_all'\n",
      "Tron: Ares\n",
      "'NoneType' object has no attribute 'find'\n",
      "FC Barcelona\n",
      "'NoneType' object has no attribute 'find_all'\n"
     ]
    }
   ],
   "source": [
    "movies = soup.select(\".wikitable.sortable i a\")\n",
    "base_link = 'https://en.wikipedia.org/'\n",
    "all_info_boxes = []\n",
    "\n",
    "for movie in movies:\n",
    "    try:\n",
    "        url = base_link + movie['href']\n",
    "        all_info_boxes.append(get_info_box(url))\n",
    "    except Exception as e:\n",
    "        print(movie.get_text())\n",
    "        print(e)"
   ]
  },
  {
   "cell_type": "code",
   "execution_count": 5,
   "metadata": {},
   "outputs": [],
   "source": [
    "# Save and reload data\n",
    "\n",
    "import json\n",
    "\n",
    "def save_data(title, data):\n",
    "    with open(title, 'w', encoding='utf-8') as file:\n",
    "        json.dump(data, file, ensure_ascii=False, indent=2)\n",
    "        \n",
    "def load_data(title):\n",
    "    with open(title, 'r', encoding='utf-8') as file:\n",
    "        return json.load(file)"
   ]
  },
  {
   "cell_type": "code",
   "execution_count": 3,
   "metadata": {},
   "outputs": [
    {
     "ename": "NameError",
     "evalue": "name 'all_info_boxes' is not defined",
     "output_type": "error",
     "traceback": [
      "\u001b[1;31m---------------------------------------------------------------------------\u001b[0m",
      "\u001b[1;31mNameError\u001b[0m                                 Traceback (most recent call last)",
      "\u001b[1;32m<ipython-input-3-8ee7a35c9a39>\u001b[0m in \u001b[0;36m<module>\u001b[1;34m\u001b[0m\n\u001b[1;32m----> 1\u001b[1;33m \u001b[0msave_data\u001b[0m\u001b[1;33m(\u001b[0m\u001b[1;34m\"disney_data_cleaned.json\"\u001b[0m\u001b[1;33m,\u001b[0m \u001b[0mall_info_boxes\u001b[0m\u001b[1;33m)\u001b[0m\u001b[1;33m\u001b[0m\u001b[1;33m\u001b[0m\u001b[0m\n\u001b[0m",
      "\u001b[1;31mNameError\u001b[0m: name 'all_info_boxes' is not defined"
     ]
    }
   ],
   "source": [
    "save_data(\"disney_data_cleaned.json\", all_info_boxes)"
   ]
  },
  {
   "cell_type": "code",
   "execution_count": 4,
   "metadata": {},
   "outputs": [],
   "source": [
    "# Clean our data"
   ]
  },
  {
   "cell_type": "code",
   "execution_count": 6,
   "metadata": {},
   "outputs": [],
   "source": [
    "movie_info_list = load_data('disney_data.json')"
   ]
  },
  {
   "cell_type": "markdown",
   "metadata": {},
   "source": [
    "### Subtasks\n",
    "- Clean up references\n",
    "- Convert running time into a number\n",
    "- Convert date to datetime object\n",
    "- Split up the long strings with comma\n",
    "- Convert Budget and Box offices into numbers"
   ]
  },
  {
   "cell_type": "code",
   "execution_count": 9,
   "metadata": {},
   "outputs": [
    {
     "data": {
      "text/plain": [
       "[{'Title': 'Snow White and the Seven Dwarfs',\n",
       "  'Directed by': ['David Hand',\n",
       "   'William Cottrell',\n",
       "   'Wilfred Jackson',\n",
       "   'Larry Morey',\n",
       "   'Perce Pearce',\n",
       "   'Ben Sharpsteen'],\n",
       "  'Written by': ['Ted Sears',\n",
       "   'Richard Creedon',\n",
       "   'Otto Englander',\n",
       "   'Dick Rickard',\n",
       "   'Earl Hurd',\n",
       "   'Merrill De Maris',\n",
       "   'Dorothy Ann Blank',\n",
       "   'Webb Smith'],\n",
       "  'Based on': 'Snow White by The Brothers Grimm',\n",
       "  'Produced by': 'Walt Disney',\n",
       "  'Starring': ['Adriana Caselotti',\n",
       "   'Lucille La Verne',\n",
       "   'Harry Stockwell',\n",
       "   'Roy Atwell',\n",
       "   'Pinto Colvig',\n",
       "   'Otis Harlan',\n",
       "   'Scotty Mattraw',\n",
       "   'Billy Gilbert',\n",
       "   'Eddie Collins',\n",
       "   'Moroni Olsen',\n",
       "   'Stuart Buchanan'],\n",
       "  'Music by': ['Frank Churchill', 'Paul Smith', 'Leigh Harline'],\n",
       "  'Production company': 'Walt Disney Productions',\n",
       "  'Distributed by': 'RKO Radio Pictures',\n",
       "  'Release dates': ['December 21, 1937 ( 1937-12-21 ) ( Carthay Circle Theatre )',\n",
       "   'February 4, 1938 ( 1938-02-04 ) (United States)'],\n",
       "  'Running time': '83 minutes',\n",
       "  'Country': 'United States',\n",
       "  'Language': 'English',\n",
       "  'Budget': '$1.49 million [1]',\n",
       "  'Box office': '$418 million [2]'},\n",
       " {'Title': 'Pinocchio',\n",
       "  'Directed by': ['Ben Sharpsteen',\n",
       "   'Hamilton Luske',\n",
       "   'Bill Roberts',\n",
       "   'Norman Ferguson',\n",
       "   'Jack Kinney',\n",
       "   'Wilfred Jackson',\n",
       "   'T. Hee'],\n",
       "  'Story by': ['Ted Sears',\n",
       "   'Otto Englander',\n",
       "   'Webb Smith',\n",
       "   'William Cottrell',\n",
       "   'Joseph Sabo',\n",
       "   'Erdman Penner',\n",
       "   'Aurelius Battaglia'],\n",
       "  'Based on': 'The Adventures of Pinocchio by Carlo Collodi',\n",
       "  'Produced by': 'Walt Disney',\n",
       "  'Starring': ['Cliff Edwards',\n",
       "   'Dickie Jones',\n",
       "   'Christian Rub',\n",
       "   'Walter Catlett',\n",
       "   'Charles Judels',\n",
       "   'Evelyn Venable',\n",
       "   'Frankie Darro'],\n",
       "  'Music by': ['Leigh Harline', 'Paul J. Smith'],\n",
       "  'Production company': 'Walt Disney Productions',\n",
       "  'Distributed by': 'RKO Radio Pictures',\n",
       "  'Release dates': ['February 7, 1940 ( 1940-02-07 ) ( Center Theatre ) [1]',\n",
       "   'February 23, 1940 ( 1940-02-23 ) (United States) [2]'],\n",
       "  'Running time': '88 minutes',\n",
       "  'Country': 'United States',\n",
       "  'Language': 'English',\n",
       "  'Budget': '$2.6 million [3]',\n",
       "  'Box office': '$164 million'}]"
      ]
     },
     "execution_count": 9,
     "metadata": {},
     "output_type": "execute_result"
    }
   ],
   "source": [
    "# Remove [1], [2]...\n",
    "\n",
    "# done by defining clean_tags\n",
    "\n",
    "movie_info_list[:2]"
   ]
  },
  {
   "cell_type": "code",
   "execution_count": null,
   "metadata": {},
   "outputs": [],
   "source": []
  }
 ],
 "metadata": {
  "kernelspec": {
   "display_name": "Python 3",
   "language": "python",
   "name": "python3"
  },
  "language_info": {
   "codemirror_mode": {
    "name": "ipython",
    "version": 3
   },
   "file_extension": ".py",
   "mimetype": "text/x-python",
   "name": "python",
   "nbconvert_exporter": "python",
   "pygments_lexer": "ipython3",
   "version": "3.8.5"
  },
  "vscode": {
   "interpreter": {
    "hash": "e89691e4663d647bc11c8a9859f5cdd56224e794f653bdd6c406cd9780fe241b"
   }
  }
 },
 "nbformat": 4,
 "nbformat_minor": 4
}
